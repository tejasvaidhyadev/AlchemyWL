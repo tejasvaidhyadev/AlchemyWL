{
 "cells": [
  {
   "cell_type": "code",
   "execution_count": 21,
   "id": "89e22816",
   "metadata": {},
   "outputs": [],
   "source": [
    "import numpy as np\n",
    "import pandas as pd\n",
    "import os\n",
    "import random"
   ]
  },
  {
   "cell_type": "code",
   "execution_count": 2,
   "id": "3944f7a6",
   "metadata": {},
   "outputs": [
    {
     "data": {
      "text/html": [
       "<div>\n",
       "<style scoped>\n",
       "    .dataframe tbody tr th:only-of-type {\n",
       "        vertical-align: middle;\n",
       "    }\n",
       "\n",
       "    .dataframe tbody tr th {\n",
       "        vertical-align: top;\n",
       "    }\n",
       "\n",
       "    .dataframe thead th {\n",
       "        text-align: right;\n",
       "    }\n",
       "</style>\n",
       "<table border=\"1\" class=\"dataframe\">\n",
       "  <thead>\n",
       "    <tr style=\"text-align: right;\">\n",
       "      <th></th>\n",
       "      <th>Input</th>\n",
       "      <th>Output</th>\n",
       "    </tr>\n",
       "  </thead>\n",
       "  <tbody>\n",
       "    <tr>\n",
       "      <th>0</th>\n",
       "      <td>pitcher : c d c m ; canister : d p d p o o ; j...</td>\n",
       "      <td>pitcher : c c ; pitcher : d ; pitcher : m ; ca...</td>\n",
       "    </tr>\n",
       "    <tr>\n",
       "      <th>1</th>\n",
       "      <td>thermos : h y h c ; beaker : p h p h ; SEPARAT...</td>\n",
       "      <td>thermos : h y h c ; beaker : p h p h o o o o o...</td>\n",
       "    </tr>\n",
       "    <tr>\n",
       "      <th>2</th>\n",
       "      <td>jar : d m m p ; mug : m h h ; decanter : y o o...</td>\n",
       "      <td>jar : d m m p d m m p ; mug : m h h ; decanter...</td>\n",
       "    </tr>\n",
       "    <tr>\n",
       "      <th>3</th>\n",
       "      <td>canister : d d g ; jar : b b ; decanter : a b ...</td>\n",
       "      <td>canister : d d g ; jar : b b ; decanter : a b ...</td>\n",
       "    </tr>\n",
       "    <tr>\n",
       "      <th>4</th>\n",
       "      <td>cup : d ; urn : g d g d ; SEPARATE unmix urn</td>\n",
       "      <td>cup : d ; urn : g g ; urn : d d ;</td>\n",
       "    </tr>\n",
       "    <tr>\n",
       "      <th>...</th>\n",
       "      <td>...</td>\n",
       "      <td>...</td>\n",
       "    </tr>\n",
       "    <tr>\n",
       "      <th>24995</th>\n",
       "      <td>glass : b p ; burette : y y ; SEPARATE destroy...</td>\n",
       "      <td>glass : b p ;</td>\n",
       "    </tr>\n",
       "    <tr>\n",
       "      <th>24996</th>\n",
       "      <td>burette : r o r ; jar : r v r p ; jug : m a a ...</td>\n",
       "      <td>burette : r o r ; jar : r v r p ; jug : m a a ;</td>\n",
       "    </tr>\n",
       "    <tr>\n",
       "      <th>24997</th>\n",
       "      <td>bottle : v y v c ; jug : r r ; burette : o o m...</td>\n",
       "      <td>bottle : v y v c ; jug : r r ; glass : p ;</td>\n",
       "    </tr>\n",
       "    <tr>\n",
       "      <th>24998</th>\n",
       "      <td>pitcher : y o y a a ; jar : b ; SEPARATE unmix...</td>\n",
       "      <td>pitcher : y o y a a ; jar : b ;</td>\n",
       "    </tr>\n",
       "    <tr>\n",
       "      <th>24999</th>\n",
       "      <td>pitcher : y y h ; urn : c r ; jar : o o ; urn ...</td>\n",
       "      <td>pitcher : y y h ; jar : o o ; urn : y y p ; ur...</td>\n",
       "    </tr>\n",
       "  </tbody>\n",
       "</table>\n",
       "<p>25000 rows × 2 columns</p>\n",
       "</div>"
      ],
      "text/plain": [
       "                                                   Input  \\\n",
       "0      pitcher : c d c m ; canister : d p d p o o ; j...   \n",
       "1      thermos : h y h c ; beaker : p h p h ; SEPARAT...   \n",
       "2      jar : d m m p ; mug : m h h ; decanter : y o o...   \n",
       "3      canister : d d g ; jar : b b ; decanter : a b ...   \n",
       "4           cup : d ; urn : g d g d ; SEPARATE unmix urn   \n",
       "...                                                  ...   \n",
       "24995  glass : b p ; burette : y y ; SEPARATE destroy...   \n",
       "24996  burette : r o r ; jar : r v r p ; jug : m a a ...   \n",
       "24997  bottle : v y v c ; jug : r r ; burette : o o m...   \n",
       "24998  pitcher : y o y a a ; jar : b ; SEPARATE unmix...   \n",
       "24999  pitcher : y y h ; urn : c r ; jar : o o ; urn ...   \n",
       "\n",
       "                                                  Output  \n",
       "0      pitcher : c c ; pitcher : d ; pitcher : m ; ca...  \n",
       "1      thermos : h y h c ; beaker : p h p h o o o o o...  \n",
       "2      jar : d m m p d m m p ; mug : m h h ; decanter...  \n",
       "3      canister : d d g ; jar : b b ; decanter : a b ...  \n",
       "4                      cup : d ; urn : g g ; urn : d d ;  \n",
       "...                                                  ...  \n",
       "24995                                      glass : b p ;  \n",
       "24996    burette : r o r ; jar : r v r p ; jug : m a a ;  \n",
       "24997         bottle : v y v c ; jug : r r ; glass : p ;  \n",
       "24998                    pitcher : y o y a a ; jar : b ;  \n",
       "24999  pitcher : y y h ; jar : o o ; urn : y y p ; ur...  \n",
       "\n",
       "[25000 rows x 2 columns]"
      ]
     },
     "execution_count": 2,
     "metadata": {},
     "output_type": "execute_result"
    }
   ],
   "source": [
    "full_df = pd.read_csv(\"data/v4_8ops_iid_25k/full.tsv\", sep='\\t')\n",
    "full_df"
   ]
  },
  {
   "cell_type": "code",
   "execution_count": 24,
   "id": "205e666a",
   "metadata": {},
   "outputs": [],
   "source": [
    "def create_sys_split(df, word, shots, train_size = 20000, gen_size = 2000):\n",
    "    df = df.sample(frac = 1)\n",
    "    word_ls = []\n",
    "    other_ls = []\n",
    "    for i in range(len(df)):\n",
    "        if word in df.loc[i]['Input']:\n",
    "            word_ls.append((df.loc[i]['Input'], df.loc[i]['Output']))\n",
    "        else:\n",
    "            other_ls.append((df.loc[i]['Input'], df.loc[i]['Output']))\n",
    "    word_ls.sort(key = lambda y: len(y[0].split()))\n",
    "    \n",
    "    train_ls = other_ls[:train_size-shots] + word_ls[len(word_ls)-shots:]\n",
    "    gen_ls = word_ls[:len(word_ls)-shots]\n",
    "    random.shuffle(gen_ls)\n",
    "    gen_ls = gen_ls[:gen_size]\n",
    "    \n",
    "    train_df = pd.DataFrame.from_records(train_ls, columns = ['Input', 'Output'])\n",
    "    train_df = train_df.sample(frac=1)\n",
    "    \n",
    "    gen_df = pd.DataFrame.from_records(gen_ls, columns = ['Input', 'Output'])\n",
    "    gen_df = gen_df.sample(frac=1)\n",
    "    \n",
    "    path = 'data/' + word + '_' + str(shots)\n",
    "    \n",
    "    if not os.path.exists(path):\n",
    "        os.makedirs(path)\n",
    "    \n",
    "    train_df.to_csv(path + '/train' + '.tsv', sep=\"\\t\", index=None)\n",
    "    print(\"train size: \", len(train_df))\n",
    "    gen_df.to_csv(path + '/gen' + '.tsv', sep=\"\\t\", index=None)\n",
    "    print(\"Gen size: \", len(gen_df))"
   ]
  },
  {
   "cell_type": "code",
   "execution_count": 25,
   "id": "4dd10117",
   "metadata": {},
   "outputs": [
    {
     "name": "stdout",
     "output_type": "stream",
     "text": [
      "train size:  20000\n",
      "Gen size:  2000\n",
      "train size:  20000\n",
      "Gen size:  2000\n",
      "train size:  20000\n",
      "Gen size:  2000\n",
      "train size:  20000\n",
      "Gen size:  2000\n"
     ]
    }
   ],
   "source": [
    "create_sys_split(full_df, \"destroy\", 1)\n",
    "create_sys_split(full_df, \"destroy\", 10)\n",
    "create_sys_split(full_df, \"destroy\", 100)\n",
    "create_sys_split(full_df, \"destroy\", 1000)"
   ]
  },
  {
   "cell_type": "code",
   "execution_count": 26,
   "id": "65e5bee6",
   "metadata": {},
   "outputs": [
    {
     "name": "stdout",
     "output_type": "stream",
     "text": [
      "train size:  20000\n",
      "Gen size:  2000\n",
      "train size:  20000\n",
      "Gen size:  2000\n",
      "train size:  20000\n",
      "Gen size:  2000\n",
      "train size:  20000\n",
      "Gen size:  2000\n"
     ]
    }
   ],
   "source": [
    "create_sys_split(full_df, \"add\", 1)\n",
    "create_sys_split(full_df, \"add\", 10)\n",
    "create_sys_split(full_df, \"add\", 100)\n",
    "create_sys_split(full_df, \"add\", 1000)"
   ]
  },
  {
   "cell_type": "code",
   "execution_count": 27,
   "id": "784a74b9",
   "metadata": {},
   "outputs": [
    {
     "name": "stdout",
     "output_type": "stream",
     "text": [
      "train size:  20000\n",
      "Gen size:  2000\n",
      "train size:  20000\n",
      "Gen size:  2000\n",
      "train size:  20000\n",
      "Gen size:  2000\n",
      "train size:  20000\n",
      "Gen size:  2000\n"
     ]
    }
   ],
   "source": [
    "create_sys_split(full_df, \"shift\", 1)\n",
    "create_sys_split(full_df, \"shift\", 10)\n",
    "create_sys_split(full_df, \"shift\", 100)\n",
    "create_sys_split(full_df, \"shift\", 1000)"
   ]
  },
  {
   "cell_type": "code",
   "execution_count": 28,
   "id": "aa0ca3a6",
   "metadata": {},
   "outputs": [
    {
     "name": "stdout",
     "output_type": "stream",
     "text": [
      "train size:  20000\n",
      "Gen size:  2000\n",
      "train size:  20000\n",
      "Gen size:  2000\n",
      "train size:  20000\n",
      "Gen size:  2000\n",
      "train size:  20000\n",
      "Gen size:  2000\n"
     ]
    }
   ],
   "source": [
    "create_sys_split(full_df, \"unmix\", 1)\n",
    "create_sys_split(full_df, \"unmix\", 10)\n",
    "create_sys_split(full_df, \"unmix\", 100)\n",
    "create_sys_split(full_df, \"unmix\", 1000)"
   ]
  },
  {
   "cell_type": "code",
   "execution_count": null,
   "id": "4e907563",
   "metadata": {},
   "outputs": [],
   "source": []
  }
 ],
 "metadata": {
  "kernelspec": {
   "display_name": "collabenv",
   "language": "python",
   "name": "collabenv"
  },
  "language_info": {
   "codemirror_mode": {
    "name": "ipython",
    "version": 3
   },
   "file_extension": ".py",
   "mimetype": "text/x-python",
   "name": "python",
   "nbconvert_exporter": "python",
   "pygments_lexer": "ipython3",
   "version": "3.9.12"
  }
 },
 "nbformat": 4,
 "nbformat_minor": 5
}
